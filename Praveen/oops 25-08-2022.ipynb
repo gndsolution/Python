{
 "cells": [
  {
   "cell_type": "code",
   "execution_count": 9,
   "id": "e725359d",
   "metadata": {},
   "outputs": [],
   "source": [
    "class car:#class \n",
    "    color=\"Green\" #Properties\n",
    "    model=\"MathRock\"\n",
    "    price=282029\n",
    "    def drive(self): #Methods\n",
    "        print(\"Driving\")\n",
    "    def lock(self):\n",
    "        print(\"lock\")\n",
    "    def unlock(self):\n",
    "        print(\"unlock\")\n",
    "    def print_details(self):\n",
    "        print(f'model {self.model}')#Self is binding to the object when its get called\n",
    "        print(f'color {self.color}')\n",
    "        print(f'price {self.price}')\n",
    "c1=car()\n",
    "c2=car()# object creation\n",
    "c1.color=\"Red\"#This will allows change data in object Blue print Properties not on main car class"
   ]
  },
  {
   "cell_type": "code",
   "execution_count": 10,
   "id": "5138125a",
   "metadata": {},
   "outputs": [
    {
     "name": "stdout",
     "output_type": "stream",
     "text": [
      "Driving\n"
     ]
    }
   ],
   "source": [
    "c1.drive()#calling methods using object"
   ]
  },
  {
   "cell_type": "code",
   "execution_count": 12,
   "id": "915f1b6d",
   "metadata": {},
   "outputs": [
    {
     "name": "stdout",
     "output_type": "stream",
     "text": [
      "model MathRock\n",
      "color Red\n",
      "price 282029\n"
     ]
    }
   ],
   "source": [
    "c1.print_details()"
   ]
  },
  {
   "cell_type": "code",
   "execution_count": 13,
   "id": "2e60ba4a",
   "metadata": {},
   "outputs": [],
   "source": [
    "c1.color=\"Green\"\n",
    "c1.model=\"Black host\"\n",
    "c1.price=99999"
   ]
  },
  {
   "cell_type": "code",
   "execution_count": 18,
   "id": "e7cdeb19",
   "metadata": {},
   "outputs": [
    {
     "name": "stdout",
     "output_type": "stream",
     "text": [
      "model Black host\n",
      "color Green\n",
      "price 99999\n"
     ]
    }
   ],
   "source": [
    "c1.print_details()# C1 object Properties are changed  "
   ]
  },
  {
   "cell_type": "code",
   "execution_count": 19,
   "id": "43cfc02b",
   "metadata": {},
   "outputs": [
    {
     "name": "stdout",
     "output_type": "stream",
     "text": [
      "model MathRock\n",
      "color Green\n",
      "price 282029\n"
     ]
    }
   ],
   "source": [
    "c2.print_details()#C2 Objects properties are not changed"
   ]
  },
  {
   "cell_type": "code",
   "execution_count": 21,
   "id": "bbd9c0b9",
   "metadata": {},
   "outputs": [],
   "source": [
    "c2.fuel=\"CNG\""
   ]
  },
  {
   "cell_type": "code",
   "execution_count": 22,
   "id": "bb9b3a45",
   "metadata": {},
   "outputs": [],
   "source": [
    "c1.fuel=\"Petrol\""
   ]
  },
  {
   "cell_type": "code",
   "execution_count": 24,
   "id": "d6ae2d04",
   "metadata": {},
   "outputs": [
    {
     "name": "stdout",
     "output_type": "stream",
     "text": [
      "model Black host\n",
      "color Green\n",
      "price 99999\n"
     ]
    }
   ],
   "source": [
    "c1.print_details()"
   ]
  },
  {
   "cell_type": "code",
   "execution_count": 44,
   "id": "2dda6600",
   "metadata": {},
   "outputs": [
    {
     "name": "stdout",
     "output_type": "stream",
     "text": [
      "5 + 3i\n",
      "5 + 3j\n"
     ]
    }
   ],
   "source": [
    "class complex_number:\n",
    "    real=0\n",
    "    imaginary=0\n",
    "    def complex_i(self):\n",
    "        print('{} + {}i'.format(self.real,self.imaginary))\n",
    "    def complex_j(self):\n",
    "        print(f'{self.real} + {self.imaginary}j')\n",
    "    def complex_addition(self):\n",
    "        print('{0}+{1}i'.format(self.real,self.imaginary))\n",
    "x=complex_number()\n",
    "x.real=5\n",
    "x.imaginary=3\n",
    "x.complex_i()\n",
    "x.complex_j()"
   ]
  },
  {
   "cell_type": "code",
   "execution_count": 45,
   "id": "d4ecfb12",
   "metadata": {},
   "outputs": [
    {
     "name": "stdout",
     "output_type": "stream",
     "text": [
      "0\n",
      "0\n"
     ]
    }
   ],
   "source": [
    "obj=complex_number()\n",
    "print(obj.real)\n",
    "print(obj.imaginary)"
   ]
  },
  {
   "cell_type": "code",
   "execution_count": 46,
   "id": "31a5204b",
   "metadata": {},
   "outputs": [],
   "source": [
    "obj.real=7\n",
    "obj.imaginary=8"
   ]
  },
  {
   "cell_type": "code",
   "execution_count": 47,
   "id": "3d39d9b8",
   "metadata": {},
   "outputs": [
    {
     "name": "stdout",
     "output_type": "stream",
     "text": [
      "7+8i\n"
     ]
    }
   ],
   "source": [
    "obj.complex_addition()"
   ]
  },
  {
   "cell_type": "code",
   "execution_count": 50,
   "id": "6baebe66",
   "metadata": {},
   "outputs": [],
   "source": [
    "class complex_number:\n",
    "    def __init__(self,real,image):\n",
    "        self.real=real\n",
    "        self.image=image\n",
    "    def complex_substraction(self):\n",
    "        print(\"{}-{}j\".format(self.real,self.image))"
   ]
  },
  {
   "cell_type": "code",
   "execution_count": 51,
   "id": "286b7cc7",
   "metadata": {},
   "outputs": [
    {
     "name": "stdout",
     "output_type": "stream",
     "text": [
      "4-6j\n"
     ]
    }
   ],
   "source": [
    "cx=complex_number(4,6)\n",
    "cx.complex_substraction()"
   ]
  },
  {
   "cell_type": "code",
   "execution_count": 67,
   "id": "d9f67d3b",
   "metadata": {},
   "outputs": [
    {
     "name": "stdout",
     "output_type": "stream",
     "text": [
      "5-6j\n"
     ]
    }
   ],
   "source": [
    "cx=complex_number(5,6)\n",
    "cx.complex_substraction()"
   ]
  },
  {
   "cell_type": "code",
   "execution_count": 62,
   "id": "9da411ba",
   "metadata": {},
   "outputs": [
    {
     "name": "stdout",
     "output_type": "stream",
     "text": [
      "<class 'int'>\n"
     ]
    }
   ],
   "source": [
    "print(type(7))"
   ]
  },
  {
   "cell_type": "code",
   "execution_count": 63,
   "id": "7d57332a",
   "metadata": {},
   "outputs": [
    {
     "name": "stdout",
     "output_type": "stream",
     "text": [
      "oops 25-08-2022.py __name__\n"
     ]
    }
   ],
   "source": [
    "print(\"oops 25-08-2022.py\",\"__name__\")"
   ]
  },
  {
   "cell_type": "code",
   "execution_count": 68,
   "id": "e3a4c4ce",
   "metadata": {},
   "outputs": [],
   "source": [
    "class Employee:\n",
    "    pass"
   ]
  },
  {
   "cell_type": "code",
   "execution_count": 69,
   "id": "9607030d",
   "metadata": {},
   "outputs": [],
   "source": [
    "Praveen=Employee()\n",
    "Praveen.fname=\"Praveen\"\n",
    "Praveen.lname=\"Acharya\"\n",
    "Praveen.Salary=\"30K\"\n",
    "Praveen.Designation=\"SOftware Developer\""
   ]
  },
  {
   "cell_type": "code",
   "execution_count": 70,
   "id": "1e31adb6",
   "metadata": {},
   "outputs": [
    {
     "data": {
      "text/plain": [
       "'Acharya'"
      ]
     },
     "execution_count": 70,
     "metadata": {},
     "output_type": "execute_result"
    }
   ],
   "source": [
    "class Employee:\n",
    "    def __init__(self,fname,lname,designation):\n",
    "        self.fname=fname\n",
    "        self.lname=lname\n",
    "        self.designation=designation"
   ]
  },
  {
   "cell_type": "code",
   "execution_count": 71,
   "id": "a9ea3147",
   "metadata": {},
   "outputs": [
    {
     "name": "stdout",
     "output_type": "stream",
     "text": [
      "9880032253\n",
      "Hello How are You\n"
     ]
    }
   ],
   "source": [
    "class whatsapp:\n",
    "    def __init__(self,number,text):\n",
    "        self.number=number\n",
    "        self.text=text\n",
    "    def filter_number(self):\n",
    "        print(self.number)\n",
    "        print(self.text)\n",
    "\n",
    "if __name__==\"__main__\":\n",
    "    number=9880032253\n",
    "    text=\"Hello How are You\"\n",
    "    x=whatsapp(number, text)\n",
    "    x.filter_number()"
   ]
  },
  {
   "cell_type": "code",
   "execution_count": 72,
   "id": "566d64a5",
   "metadata": {},
   "outputs": [
    {
     "name": "stdout",
     "output_type": "stream",
     "text": [
      "Praveen\n",
      "Acharya\n",
      "Software Developer\n",
      "15000.0\n",
      "None\n",
      "ABC\n",
      "XYZ\n",
      "Software Tester\n",
      "10000\n"
     ]
    }
   ],
   "source": [
    "class Employee:\n",
    "    increment=1.5\n",
    "    def __init__(self,fname,lname,designation,salray):\n",
    "        self.fname=fname\n",
    "        self.lname=lname\n",
    "        self.designation=designation\n",
    "        self.salray=salray\n",
    "    def increment_(self):\n",
    "        self.salray=self.salray*self.increment\n",
    "        print(self.salray)\n",
    "    @classmethod\n",
    "    def incre_(cls,amount):\n",
    "        cls.increment=amount\n",
    "rohan=Employee(\"Praveen\", \"Acharya\", \"Software Developer\",10000)\n",
    "ABC=Employee(\"ABC\", \"XYZ\", \"Software Tester\",10000)\n",
    "print(rohan.fname)\n",
    "print(rohan.lname)\n",
    "print(rohan.designation)\n",
    "rohan.incre_(1.5)\n",
    "print(rohan.increment_())\n",
    "\n",
    "print(ABC.fname)\n",
    "print(ABC.lname)\n",
    "print(ABC.designation)\n",
    "print(ABC.salray)"
   ]
  },
  {
   "cell_type": "code",
   "execution_count": 80,
   "id": "f1de0d9f",
   "metadata": {
    "scrolled": true
   },
   "outputs": [
    {
     "data": {
      "text/plain": [
       "('Praveen', 'Acharya', 'SDE', 10000)"
      ]
     },
     "execution_count": 80,
     "metadata": {},
     "output_type": "execute_result"
    }
   ],
   "source": [
    "class Employee:\n",
    "    increment=1.5\n",
    "    def __init__(self,fname,lname,designation,salray):\n",
    "        self.fname=fname\n",
    "        self.lname=lname\n",
    "        self.designation=designation\n",
    "        self.salray=salray\n",
    "    def increment_(self):\n",
    "        self.salray=self.salray*self.increment\n",
    "        print(self.salray)\n",
    "    @classmethod\n",
    "    def incre_(cls,amount):\n",
    "        cls.increment=amount\n",
    "    @classmethod\n",
    "    def to_string(cls,to_string_):\n",
    "        f_name,l_name,Des,salary=to_string_.split(\" \")\n",
    "        return cls(f_name,l_name,Des,int(salary))\n",
    "        \n",
    "inp=\"Praveen Acharya SDE 10000\"\n",
    "hs=Employee.to_string(inp)\n",
    "hs.fname,hs.lname,hs.designation,hs.salray"
   ]
  },
  {
   "cell_type": "code",
   "execution_count": 81,
   "id": "39bdbc44",
   "metadata": {},
   "outputs": [
    {
     "name": "stdout",
     "output_type": "stream",
     "text": [
      "Praveen 3.5 Python\n"
     ]
    }
   ],
   "source": [
    "#This is single Inhertiance \n",
    "class Employee:\n",
    "    increment=1.5\n",
    "    def __init__(self,fname,lname,designation,salray):\n",
    "        self.fname=fname\n",
    "        self.lname=lname\n",
    "        self.designation=designation\n",
    "        self.salray=salray\n",
    "    def increment_(self):\n",
    "        self.salray=self.salray*self.increment\n",
    "        print(self.salray)\n",
    "    @classmethod\n",
    "    def incre_(cls,amount):\n",
    "        cls.increment=amount\n",
    "    @classmethod\n",
    "    def to_string(cls,to_string_):\n",
    "        f_name,l_name,Des,salary=to_string_.split(\" \")\n",
    "        return cls(f_name,l_name,Des,int(salary))\n",
    "class Programmer(Employee):\n",
    "    def __init__(self, fname, lname, designation, salray,Language,\n",
    "                 experiance):\n",
    "        super().__init__(fname, lname, designation, salray)\n",
    "        self.Language=Language\n",
    "        self.experiance=experiance\n",
    "    @classmethod\n",
    "    def to_string(cls,to_string_):\n",
    "        fname, lname, designation, salray,Language,experiance=to_string_.split(\" \")\n",
    "        return cls(fname, lname, designation, salray, Language, experiance)\n",
    "inp=\"Praveen Acharya SDE 10000\"\n",
    "pro=\"Python 3.5\"\n",
    "hs=Employee.to_string(inp)\n",
    "new_sr=inp+\" \"+pro\n",
    "hs=Employee.to_string(inp)\n",
    "pr=Programmer.to_string(new_sr)\n",
    "print(hs.fname,pr.experiance,pr.Language)"
   ]
  },
  {
   "cell_type": "code",
   "execution_count": null,
   "id": "9205f41e",
   "metadata": {},
   "outputs": [],
   "source": [
    "de"
   ]
  },
  {
   "cell_type": "code",
   "execution_count": null,
   "id": "e331b8b5",
   "metadata": {},
   "outputs": [],
   "source": []
  },
  {
   "cell_type": "code",
   "execution_count": null,
   "id": "17f11efa",
   "metadata": {},
   "outputs": [],
   "source": []
  },
  {
   "cell_type": "code",
   "execution_count": null,
   "id": "a2dca21a",
   "metadata": {},
   "outputs": [],
   "source": []
  },
  {
   "cell_type": "code",
   "execution_count": null,
   "id": "4776ca8e",
   "metadata": {},
   "outputs": [],
   "source": []
  }
 ],
 "metadata": {
  "kernelspec": {
   "display_name": "Python 3 (ipykernel)",
   "language": "python",
   "name": "python3"
  },
  "language_info": {
   "codemirror_mode": {
    "name": "ipython",
    "version": 3
   },
   "file_extension": ".py",
   "mimetype": "text/x-python",
   "name": "python",
   "nbconvert_exporter": "python",
   "pygments_lexer": "ipython3",
   "version": "3.9.12"
  }
 },
 "nbformat": 4,
 "nbformat_minor": 5
}
